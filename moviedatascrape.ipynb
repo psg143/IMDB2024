{
 "cells": [
  {
   "cell_type": "code",
   "execution_count": 7,
   "metadata": {},
   "outputs": [],
   "source": [
    "from selenium import webdriver\n",
    "from selenium.webdriver.common.by import By\n",
    "from selenium.webdriver import ActionChains\n",
    "import time\n",
    "import pandas as pd\n",
    "import glob"
   ]
  },
  {
   "cell_type": "code",
   "execution_count": 8,
   "metadata": {},
   "outputs": [],
   "source": [
    "def convert_string_to_number(s):\n",
    "    if 'K' in s or 'k' in s: \n",
    "        number = float(s[:-1]) * 1000 \n",
    "    else: \n",
    "        number = float(s)\n",
    "    \n",
    "    return number\n"
   ]
  },
  {
   "cell_type": "code",
   "execution_count": 9,
   "metadata": {},
   "outputs": [],
   "source": [
    "def convert_to_minutes(time_str): \n",
    "    hours, minutes = 0, 0\n",
    "    if 'h' in time_str:\n",
    "        hours = int(time_str.split('h')[0])\n",
    "        time_str = time_str.split('h')[1]\n",
    "    if 'm' in time_str:\n",
    "        minutes = int(time_str.split('m')[0])\n",
    "\n",
    "    total_minutes = hours * 60 + minutes\n",
    "    return total_minutes\n"
   ]
  },
  {
   "cell_type": "code",
   "execution_count": 12,
   "metadata": {},
   "outputs": [],
   "source": [
    "def get_Movie_data(movie_Genre):\n",
    "    driver = webdriver.Chrome()\n",
    "    # movie_Genre=\"western\"\n",
    "    driver.get('https://www.imdb.com/search/title/?title_type=feature&genres='+movie_Genre+'&release_date=2024-01-01,2024-12-31');\n",
    "\n",
    "    driver.maximize_window()\n",
    "    time.sleep(3)\n",
    "\n",
    "    is_buttonexist=True\n",
    "\n",
    "    while is_buttonexist:\n",
    "        try:\n",
    "            btnsee_more=driver.find_element(By.XPATH,\"//*[@id='__next']/main/div[2]/div[3]/section/section/div/section/section/div[2]/div/section/div[2]/div[2]/div[2]/div/span/button/span/span\")\n",
    "            ActionChains(driver).move_to_element(btnsee_more).perform()\n",
    "            btnsee_more.click()\n",
    "            time.sleep(7) \n",
    "            is_buttonexist=True\n",
    "        except :#Exception as e: \n",
    "            # print(e)\n",
    "            is_buttonexist=False \n",
    "\n",
    "    movies_ul=driver.find_elements(By.XPATH,\"//*[@id='__next']/main/div[2]/div[3]/section/section/div/section/section/div[2]/div/section/div[2]/div[2]/ul/li\")\n",
    "\n",
    "    movie_Name_list=[]\n",
    "    movie_Genre_list=[]\n",
    "    movie_Ratings_list=[]\n",
    "    movie_VotecountOrg_list=[]\n",
    "    movie_DurationOrg_list=[]\n",
    "    movie_Votecount_list=[]\n",
    "    movie_Duration_list=[]\n",
    "\n",
    "    for movie_li in movies_ul:\n",
    "        try:\n",
    "            movie_Name=movie_li.find_element(By.XPATH,\"./div/div/div/div[1]/div[2]/div[1]/a/h3\")\n",
    "            movie_Name_list.append(movie_Name.text) \n",
    "        except:\n",
    "            movie_Name_list.append('') \n",
    "            \n",
    "        movie_Genre_list.append(movie_Genre) \n",
    "        \n",
    "        try:\n",
    "            movie_Ratings=movie_li.find_element(By.XPATH,\"./div/div/div/div[1]/div[2]/span/div/span/span[1]\")\n",
    "            movie_Ratings_list.append(movie_Ratings.text) \n",
    "        except:\n",
    "            movie_Ratings_list.append(0.0) \n",
    "\n",
    "        try:\n",
    "            movie_Votecount=movie_li.find_element(By.XPATH,\"./div/div/div/div[1]/div[2]/span/div/span/span[2]\")\n",
    "            movie_VotecountOrg_list.append(movie_Votecount.text.replace(\"(\",\"\").replace(\")\",\"\"))\n",
    "            movie_Votecount_list.append(convert_string_to_number(movie_Votecount.text.replace(\"(\",\"\").replace(\")\",\"\").replace(\" \",\"\")))\n",
    "        except:\n",
    "            movie_VotecountOrg_list.append('') \n",
    "            movie_Votecount_list.append(0) \n",
    "            \n",
    "        try:\n",
    "            movie_Duration=movie_li.find_element(By.XPATH,\"./div/div/div/div[1]/div[2]/div[2]/span[2]\")\n",
    "            movie_DurationOrg_list.append(movie_Duration.text) \n",
    "            movie_Duration_list.append(convert_to_minutes(movie_Duration.text)) \n",
    "        except:\n",
    "            movie_DurationOrg_list.append('') \n",
    "            movie_Duration_list.append(0) \n",
    "\n",
    "\n",
    "    dfmovie=pd.DataFrame({\n",
    "        \"MovieName\":movie_Name_list,\n",
    "        \"Genre\":movie_Genre_list,\n",
    "        \"Ratings\":movie_Ratings_list,\n",
    "        \"VotecountOrg\":movie_VotecountOrg_list,\n",
    "        \"DurationOrg\":movie_DurationOrg_list,\n",
    "        \"Votecount\":movie_Votecount_list,\n",
    "        \"Duration\":movie_Duration_list\n",
    "        })\n",
    "\n",
    "    dfmovie.to_csv(movie_Genre+'.csv',index=False)\n",
    "    driver.quit()\n"
   ]
  },
  {
   "cell_type": "code",
   "execution_count": 13,
   "metadata": {},
   "outputs": [],
   "source": [
    "genres=['War','Western','Musical','Sport','History']\n",
    "\n",
    "for i in genres:\n",
    "    get_Movie_data(i.lower())"
   ]
  },
  {
   "cell_type": "code",
   "execution_count": 17,
   "metadata": {},
   "outputs": [
    {
     "name": "stdout",
     "output_type": "stream",
     "text": [
      "                          MovieName    Genre  Ratings VotecountOrg  \\\n",
      "0                 1. I'm Still Here  history      8.8          71K   \n",
      "1                 2. Saturday Night  history      7.0          25K   \n",
      "2                    3. September 5  history      7.1         9.4K   \n",
      "3                 4. The Apprentice  history      7.1          39K   \n",
      "4                          5. Queer  history      6.5          15K   \n",
      "..                              ...      ...      ...          ...   \n",
      "934  83. TV Heroes of the Wild West  western      0.0          NaN   \n",
      "935                   84. Pale Moon  western      0.0          NaN   \n",
      "936       85. The Rattlesnake Twins  western      0.0          NaN   \n",
      "937   86. The Goods, Bads and Uglys  western      0.0          NaN   \n",
      "938       87. Attack on Tranquility  western      0.0          NaN   \n",
      "\n",
      "    DurationOrg  Votecount  Duration  \n",
      "0        2h 17m    71000.0       137  \n",
      "1        1h 49m    25000.0       109  \n",
      "2        1h 35m     9400.0        95  \n",
      "3         2h 2m    39000.0       122  \n",
      "4        2h 17m    15000.0       137  \n",
      "..          ...        ...       ...  \n",
      "934         NaN        0.0         0  \n",
      "935         NaN        0.0         0  \n",
      "936         50m        0.0        50  \n",
      "937         NaN        0.0         0  \n",
      "938       1h 4m        0.0        64  \n",
      "\n",
      "[939 rows x 7 columns]\n"
     ]
    }
   ],
   "source": [
    "csv_files_path = '*.csv'\n",
    "\n",
    "csv_files = glob.glob(csv_files_path)\n",
    "\n",
    "dataframes = []\n",
    "\n",
    "for file in csv_files:\n",
    "    df = pd.read_csv(file)\n",
    "    dataframes.append(df)\n",
    "\n",
    "merged_df = pd.concat(dataframes, ignore_index=True)\n",
    "\n",
    "print(merged_df)"
   ]
  },
  {
   "cell_type": "code",
   "execution_count": null,
   "metadata": {},
   "outputs": [
    {
     "name": "stdout",
     "output_type": "stream",
     "text": [
      "<class 'pandas.core.frame.DataFrame'>\n",
      "RangeIndex: 939 entries, 0 to 938\n",
      "Data columns (total 7 columns):\n",
      " #   Column        Non-Null Count  Dtype  \n",
      "---  ------        --------------  -----  \n",
      " 0   MovieName     939 non-null    object \n",
      " 1   Genre         939 non-null    object \n",
      " 2   Ratings       939 non-null    float64\n",
      " 3   VotecountOrg  565 non-null    object \n",
      " 4   DurationOrg   702 non-null    object \n",
      " 5   Votecount     939 non-null    float64\n",
      " 6   Duration      939 non-null    int64  \n",
      "dtypes: float64(2), int64(1), object(4)\n",
      "memory usage: 51.5+ KB\n"
     ]
    },
    {
     "data": {
      "text/html": [
       "<div>\n",
       "<style scoped>\n",
       "    .dataframe tbody tr th:only-of-type {\n",
       "        vertical-align: middle;\n",
       "    }\n",
       "\n",
       "    .dataframe tbody tr th {\n",
       "        vertical-align: top;\n",
       "    }\n",
       "\n",
       "    .dataframe thead th {\n",
       "        text-align: right;\n",
       "    }\n",
       "</style>\n",
       "<table border=\"1\" class=\"dataframe\">\n",
       "  <thead>\n",
       "    <tr style=\"text-align: right;\">\n",
       "      <th></th>\n",
       "      <th>Ratings</th>\n",
       "      <th>Votecount</th>\n",
       "      <th>Duration</th>\n",
       "    </tr>\n",
       "  </thead>\n",
       "  <tbody>\n",
       "    <tr>\n",
       "      <th>count</th>\n",
       "      <td>939.000000</td>\n",
       "      <td>939.000000</td>\n",
       "      <td>939.000000</td>\n",
       "    </tr>\n",
       "    <tr>\n",
       "      <th>mean</th>\n",
       "      <td>4.049734</td>\n",
       "      <td>1992.952077</td>\n",
       "      <td>74.226837</td>\n",
       "    </tr>\n",
       "    <tr>\n",
       "      <th>std</th>\n",
       "      <td>3.475646</td>\n",
       "      <td>10900.995884</td>\n",
       "      <td>51.131282</td>\n",
       "    </tr>\n",
       "    <tr>\n",
       "      <th>min</th>\n",
       "      <td>0.000000</td>\n",
       "      <td>0.000000</td>\n",
       "      <td>0.000000</td>\n",
       "    </tr>\n",
       "    <tr>\n",
       "      <th>25%</th>\n",
       "      <td>0.000000</td>\n",
       "      <td>0.000000</td>\n",
       "      <td>0.000000</td>\n",
       "    </tr>\n",
       "    <tr>\n",
       "      <th>50%</th>\n",
       "      <td>5.400000</td>\n",
       "      <td>15.000000</td>\n",
       "      <td>89.000000</td>\n",
       "    </tr>\n",
       "    <tr>\n",
       "      <th>75%</th>\n",
       "      <td>7.000000</td>\n",
       "      <td>191.000000</td>\n",
       "      <td>110.000000</td>\n",
       "    </tr>\n",
       "    <tr>\n",
       "      <th>max</th>\n",
       "      <td>10.000000</td>\n",
       "      <td>152000.000000</td>\n",
       "      <td>210.000000</td>\n",
       "    </tr>\n",
       "  </tbody>\n",
       "</table>\n",
       "</div>"
      ],
      "text/plain": [
       "          Ratings      Votecount    Duration\n",
       "count  939.000000     939.000000  939.000000\n",
       "mean     4.049734    1992.952077   74.226837\n",
       "std      3.475646   10900.995884   51.131282\n",
       "min      0.000000       0.000000    0.000000\n",
       "25%      0.000000       0.000000    0.000000\n",
       "50%      5.400000      15.000000   89.000000\n",
       "75%      7.000000     191.000000  110.000000\n",
       "max     10.000000  152000.000000  210.000000"
      ]
     },
     "execution_count": 19,
     "metadata": {},
     "output_type": "execute_result"
    }
   ],
   "source": [
    "merged_df.info()\n",
    "merged_df.describe()"
   ]
  },
  {
   "cell_type": "code",
   "execution_count": 16,
   "metadata": {},
   "outputs": [
    {
     "name": "stderr",
     "output_type": "stream",
     "text": [
      "C:\\Users\\Lathiga Magasri\\AppData\\Local\\Temp\\ipykernel_8528\\2815262782.py:13: UserWarning: The provided table name 'tblMovies' is not found exactly as such in the database after writing the table, possibly due to case sensitivity issues. Consider using lower case table names.\n",
      "  merged_df.to_sql('tblMovies', con=engine, if_exists='append', index=False)\n"
     ]
    },
    {
     "data": {
      "text/plain": [
       "939"
      ]
     },
     "execution_count": 16,
     "metadata": {},
     "output_type": "execute_result"
    }
   ],
   "source": [
    "from sqlalchemy import create_engine\n",
    "\n",
    "username = 'root'\n",
    "password = 'abcd'\n",
    "host = 'localhost'\n",
    "port = '3306'\n",
    "database = 'IMDB'\n",
    "\n",
    "connection_string = f'mysql+pymysql://{username}:{password}@{host}:{port}/{database}'\n",
    "\n",
    "engine = create_engine(connection_string)\n",
    "\n",
    "merged_df.to_sql('tblMovies', con=engine, if_exists='append', index=False)"
   ]
  },
  {
   "cell_type": "code",
   "execution_count": null,
   "metadata": {},
   "outputs": [],
   "source": []
  }
 ],
 "metadata": {
  "kernelspec": {
   "display_name": ".venv",
   "language": "python",
   "name": "python3"
  },
  "language_info": {
   "codemirror_mode": {
    "name": "ipython",
    "version": 3
   },
   "file_extension": ".py",
   "mimetype": "text/x-python",
   "name": "python",
   "nbconvert_exporter": "python",
   "pygments_lexer": "ipython3",
   "version": "3.12.7"
  }
 },
 "nbformat": 4,
 "nbformat_minor": 2
}
